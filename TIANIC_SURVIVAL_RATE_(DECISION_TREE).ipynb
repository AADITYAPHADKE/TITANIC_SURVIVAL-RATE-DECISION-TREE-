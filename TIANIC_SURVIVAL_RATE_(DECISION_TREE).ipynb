{
  "nbformat": 4,
  "nbformat_minor": 0,
  "metadata": {
    "colab": {
      "private_outputs": true,
      "provenance": []
    },
    "kernelspec": {
      "name": "python3",
      "display_name": "Python 3"
    },
    "language_info": {
      "name": "python"
    }
  },
  "cells": [
    {
      "cell_type": "code",
      "execution_count": null,
      "metadata": {
        "id": "LQvVi-4U0sal"
      },
      "outputs": [],
      "source": [
        "import pandas as pd\n",
        "import numpy as np\n",
        "import matplotlib.pyplot as plt\n"
      ]
    },
    {
      "cell_type": "code",
      "source": [
        "tits = pd.read_csv(\"/content/titanic.csv\")\n",
        "tits.head()"
      ],
      "metadata": {
        "id": "d_jAFKno05fP"
      },
      "execution_count": null,
      "outputs": []
    },
    {
      "cell_type": "code",
      "source": [
        "input = tits.drop(['Name','PassengerId','SibSp','Parch','Ticket','Cabin','Embarked'],axis = 'columns')\n",
        "input"
      ],
      "metadata": {
        "id": "stFhu_gs1MQ0"
      },
      "execution_count": null,
      "outputs": []
    },
    {
      "cell_type": "code",
      "source": [
        "input['Age'] = np.ceil(input['Age'])\n",
        "#input['Age'] = np.ceil(input[''])\n",
        "input"
      ],
      "metadata": {
        "id": "WDgosTAe7vRN"
      },
      "execution_count": null,
      "outputs": []
    },
    {
      "cell_type": "code",
      "source": [
        "def age_group_mapping(age):\n",
        "  if 1<= age <= 5 :\n",
        "    return 'a'\n",
        "  elif 6<= age <=10:\n",
        "    return 'b'\n",
        "  elif 11<= age <=15:\n",
        "    return 'c'\n",
        "  elif 16<= age <= 19:\n",
        "    return 'd'\n",
        "  elif 20<= age <= 30:\n",
        "    return 'e'\n",
        "  elif 31<= age <= 40:\n",
        "    return 'f'\n",
        "  elif 41<= age <=55:\n",
        "    return 'g'\n",
        "  elif 56<=age <= 70:\n",
        "    return 'h'\n",
        "  elif 70<= age :\n",
        "    return 'i'\n",
        "  else :\n",
        "    return 'zz'\n",
        "\n",
        "\n",
        "\n",
        "# Apply the age_group_mapping function to the 'Age' column\n",
        "input['Age Group'] = input['Age'].apply(age_group_mapping)\n",
        "\n",
        "print(input)"
      ],
      "metadata": {
        "id": "LzzYdmgk7vNi"
      },
      "execution_count": null,
      "outputs": []
    },
    {
      "cell_type": "code",
      "source": [],
      "metadata": {
        "id": "BR6B2iO9_NbM"
      },
      "execution_count": null,
      "outputs": []
    },
    {
      "cell_type": "code",
      "source": [
        "from google.colab import drive\n",
        "drive.mount('/content/drive')"
      ],
      "metadata": {
        "id": "x93SZcr1_drP"
      },
      "execution_count": null,
      "outputs": []
    },
    {
      "cell_type": "code",
      "source": [
        "inputt = input.drop('Age', axis = 'columns')\n",
        "inputt"
      ],
      "metadata": {
        "id": "DIwaRgkv7vKR"
      },
      "execution_count": null,
      "outputs": []
    },
    {
      "cell_type": "code",
      "source": [
        "target = input['Survived']\n",
        "target"
      ],
      "metadata": {
        "id": "KakkWrsE14rv"
      },
      "execution_count": null,
      "outputs": []
    },
    {
      "cell_type": "code",
      "source": [
        "from sklearn.preprocessing import LabelEncoder"
      ],
      "metadata": {
        "id": "7ohqQ6k22FMc"
      },
      "execution_count": null,
      "outputs": []
    },
    {
      "cell_type": "code",
      "source": [
        "le_pcclass = LabelEncoder()\n",
        "le_gen = LabelEncoder()\n",
        "le_age = LabelEncoder()\n",
        "le_fare = LabelEncoder()"
      ],
      "metadata": {
        "id": "u3BerX4H28MI"
      },
      "execution_count": null,
      "outputs": []
    },
    {
      "cell_type": "code",
      "source": [
        "inputt['pcclass'] = le_pcclass.fit_transform(input['Pclass'])\n",
        "inputt['gensz'] = le_gen.fit_transform(input['Sex'])\n",
        "inputt['age'] = le_age.fit_transform(input['Age'])\n",
        "inputt['fare'] = le_fare.fit_transform(input['Fare'])"
      ],
      "metadata": {
        "id": "bHwvu1Ic28EB"
      },
      "execution_count": null,
      "outputs": []
    },
    {
      "cell_type": "code",
      "source": [
        "inputt"
      ],
      "metadata": {
        "id": "KlbEZgJw28Aw"
      },
      "execution_count": null,
      "outputs": []
    },
    {
      "cell_type": "code",
      "source": [
        "n_input = inputt.drop(['Pclass','Sex','Age Group','Fare','Survived'],axis = 'columns')\n",
        "n_input"
      ],
      "metadata": {
        "id": "vULvzbMk27-S"
      },
      "execution_count": null,
      "outputs": []
    },
    {
      "cell_type": "code",
      "source": [],
      "metadata": {
        "id": "NJK3sfjOBHsT"
      },
      "execution_count": null,
      "outputs": []
    },
    {
      "cell_type": "code",
      "source": [
        "from sklearn import tree\n",
        "model = tree.DecisionTreeClassifier()"
      ],
      "metadata": {
        "id": "XcO9--1iAKSy"
      },
      "execution_count": null,
      "outputs": []
    },
    {
      "cell_type": "code",
      "source": [
        "from sklearn.model_selection import train_test_split"
      ],
      "metadata": {
        "id": "BDM0mLTRAcEZ"
      },
      "execution_count": null,
      "outputs": []
    },
    {
      "cell_type": "code",
      "source": [
        "X_train,X_test,y_train,y_test = train_test_split(n_input,target,test_size = 0.25)\n"
      ],
      "metadata": {
        "id": "T6IruKgZAzQq"
      },
      "execution_count": null,
      "outputs": []
    },
    {
      "cell_type": "code",
      "source": [
        "test1 = X_test.head()\n",
        "test1\n"
      ],
      "metadata": {
        "id": "IGqEK-isBwsT"
      },
      "execution_count": null,
      "outputs": []
    },
    {
      "cell_type": "code",
      "source": [
        "model.fit(n_input,target)"
      ],
      "metadata": {
        "id": "xh3OA22JBZRG"
      },
      "execution_count": null,
      "outputs": []
    },
    {
      "cell_type": "code",
      "source": [
        "model.score(n_input,target)"
      ],
      "metadata": {
        "id": "e0gjqWBLBdxb"
      },
      "execution_count": null,
      "outputs": []
    },
    {
      "cell_type": "code",
      "source": [
        "model.predict(test1)"
      ],
      "metadata": {
        "id": "4VtCrV5rBkOq"
      },
      "execution_count": null,
      "outputs": []
    },
    {
      "cell_type": "code",
      "source": [],
      "metadata": {
        "id": "dZl7yb6NCO57"
      },
      "execution_count": null,
      "outputs": []
    }
  ]
}